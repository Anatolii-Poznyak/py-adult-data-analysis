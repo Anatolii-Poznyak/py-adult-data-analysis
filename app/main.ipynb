{
 "cells": [
  {
   "cell_type": "code",
   "execution_count": 4,
   "outputs": [],
   "source": [
    "import numpy as np\n",
    "import pandas as pd\n",
    "import seaborn as sns\n",
    "import matplotlib.pyplot as plt"
   ],
   "metadata": {
    "collapsed": false,
    "pycharm": {
     "name": "#%%\n"
    },
    "ExecuteTime": {
     "end_time": "2023-05-24T13:49:47.919999Z",
     "start_time": "2023-05-24T13:49:47.896597Z"
    }
   }
  },
  {
   "cell_type": "markdown",
   "source": [
    "# Task 0\n",
    "Read the dataset from csv file & perform data cleaning - remove all rows, which contains `?` in some columns.\n",
    "Also check for data correctness (salary & salary $K)."
   ],
   "metadata": {
    "collapsed": false,
    "pycharm": {
     "name": "#%% md\n"
    }
   }
  },
  {
   "cell_type": "code",
   "execution_count": 5,
   "outputs": [],
   "source": [
    "df = pd.read_csv(\"../data/adult.csv\")\n",
    "df_cleaned = df.replace(\"?\", np.nan).dropna()\n",
    "incorrect_data = df_cleaned[\n",
    "    ((df_cleaned[\"salary\"] == \"<=50K\") & (df_cleaned[\"salary K$\"] > 50)) |\n",
    "    ((df_cleaned[\"salary\"] == \">50K\") & (df_cleaned[\"salary K$\"] <= 50))\n",
    "]\n",
    "df_cleaned = df_cleaned.drop(incorrect_data.index)"
   ],
   "metadata": {
    "collapsed": false,
    "pycharm": {
     "name": "#%%\n"
    },
    "ExecuteTime": {
     "end_time": "2023-05-24T13:49:49.639453Z",
     "start_time": "2023-05-24T13:49:49.337582Z"
    }
   }
  },
  {
   "cell_type": "markdown",
   "source": [
    "# Task 1\n",
    "Print the count of men and women in the dataset."
   ],
   "metadata": {
    "collapsed": false,
    "pycharm": {
     "name": "#%% md\n"
    }
   }
  },
  {
   "cell_type": "code",
   "execution_count": 6,
   "outputs": [
    {
     "name": "stdout",
     "output_type": "stream",
     "text": [
      "Male      20380\n",
      "Female     9782\n",
      "Name: sex, dtype: int64\n"
     ]
    }
   ],
   "source": [
    "sex = df_cleaned[\"sex\"].value_counts()\n",
    "print(sex)"
   ],
   "metadata": {
    "collapsed": false,
    "pycharm": {
     "name": "#%%\n"
    },
    "ExecuteTime": {
     "end_time": "2023-05-24T13:49:50.858468Z",
     "start_time": "2023-05-24T13:49:50.804111Z"
    }
   }
  },
  {
   "cell_type": "markdown",
   "source": [
    "# Task 2\n",
    "Find the average age of men in dataset"
   ],
   "metadata": {
    "collapsed": false,
    "pycharm": {
     "name": "#%% md\n"
    }
   }
  },
  {
   "cell_type": "code",
   "execution_count": 7,
   "outputs": [
    {
     "name": "stdout",
     "output_type": "stream",
     "text": [
      "39\n"
     ]
    }
   ],
   "source": [
    "men = df_cleaned[df_cleaned[\"sex\"] == \"Male\"]\n",
    "avg_men_age = men[\"age\"].mean()\n",
    "print(round(avg_men_age))"
   ],
   "metadata": {
    "collapsed": false,
    "pycharm": {
     "name": "#%%\n"
    },
    "ExecuteTime": {
     "end_time": "2023-05-24T13:49:52.345354Z",
     "start_time": "2023-05-24T13:49:52.313402Z"
    }
   }
  },
  {
   "cell_type": "markdown",
   "source": [
    "# Task 3\n",
    "Get the percentage of people from Poland (native-country)"
   ],
   "metadata": {
    "collapsed": false,
    "pycharm": {
     "name": "#%% md\n"
    }
   }
  },
  {
   "cell_type": "code",
   "execution_count": 8,
   "outputs": [
    {
     "name": "stdout",
     "output_type": "stream",
     "text": [
      "0.19\n"
     ]
    }
   ],
   "source": [
    "ppl_from_poland = df_cleaned[df_cleaned[\"native-country\"] == \"Poland\"]\n",
    "percentage_of_poland_ppl = (len(ppl_from_poland) / len(df_cleaned)) * 100\n",
    "print(round(percentage_of_poland_ppl, 2))"
   ],
   "metadata": {
    "collapsed": false,
    "pycharm": {
     "name": "#%%\n"
    },
    "ExecuteTime": {
     "end_time": "2023-05-24T13:49:53.348485Z",
     "start_time": "2023-05-24T13:49:53.327861Z"
    }
   }
  },
  {
   "cell_type": "markdown",
   "source": [
    "# Task 4\n",
    "Get the mean and standard deviation of the age for people who earn > 50K per year. After this, get it for those who earn <= 50K."
   ],
   "metadata": {
    "collapsed": false,
    "pycharm": {
     "name": "#%% md\n"
    }
   }
  },
  {
   "cell_type": "code",
   "execution_count": 9,
   "outputs": [],
   "source": [
    "goodfellas_mean = df_cleaned[df_cleaned[\"salary\"] == \">50K\"][\"age\"].mean()\n",
    "goodfellas_std = df_cleaned[df_cleaned[\"salary\"] == \">50K\"][\"age\"].std()\n",
    "\n",
    "unluckies_mean = df_cleaned[df_cleaned[\"salary\"] == \"<=50K\"][\"age\"].mean()\n",
    "unluckies_std = df_cleaned[df_cleaned[\"salary\"] == \"<=50K\"][\"age\"].std()"
   ],
   "metadata": {
    "collapsed": false,
    "pycharm": {
     "name": "#%%\n"
    },
    "ExecuteTime": {
     "end_time": "2023-05-24T13:49:54.571221Z",
     "start_time": "2023-05-24T13:49:54.534496Z"
    }
   }
  },
  {
   "cell_type": "markdown",
   "source": [
    "# Task 5\n",
    "Check, if there are some people without higher education (education: Bachelors, Prof-school, Assoc-acdm, Assoc-voc, Masters, Doctorate), but with > 50K salary"
   ],
   "metadata": {
    "collapsed": false,
    "pycharm": {
     "name": "#%% md\n"
    }
   }
  },
  {
   "cell_type": "code",
   "execution_count": 10,
   "outputs": [],
   "source": [
    "higher_education = [\"Bachelors\", \"Prof-school\", \"Assoc-acdm\", \"Assoc-voc\", \"Masters\", \"Doctorate\"]\n",
    "golden_boys = df_cleaned[(df_cleaned[\"education\"].isin(higher_education) == False) & (df_cleaned[\"salary\"] == \">50K\")]\n"
   ],
   "metadata": {
    "collapsed": false,
    "pycharm": {
     "name": "#%%\n"
    },
    "ExecuteTime": {
     "end_time": "2023-05-24T13:49:56.215261Z",
     "start_time": "2023-05-24T13:49:56.170293Z"
    }
   }
  },
  {
   "cell_type": "markdown",
   "source": [
    "# Task 6\n",
    "Get the statistics of age for each type of education. Use `groupby` and `describe` for this."
   ],
   "metadata": {
    "collapsed": false,
    "pycharm": {
     "name": "#%% md\n"
    }
   }
  },
  {
   "cell_type": "code",
   "execution_count": 11,
   "outputs": [
    {
     "name": "stdout",
     "output_type": "stream",
     "text": [
      "               count       mean        std   min   25%   50%   75%   max\n",
      "education                                                               \n",
      "10th           820.0  37.897561  16.225795  17.0  23.0  36.0  52.0  90.0\n",
      "11th          1048.0  32.363550  15.089307  17.0  18.0  28.5  43.0  90.0\n",
      "12th           377.0  32.013263  14.373710  17.0  19.0  28.0  41.0  79.0\n",
      "1st-4th        151.0  44.622517  14.929051  19.0  33.0  44.0  56.0  81.0\n",
      "5th-6th        288.0  41.649306  14.754622  17.0  28.0  41.0  53.0  82.0\n",
      "7th-8th        557.0  47.631957  15.737479  17.0  34.0  49.0  60.0  90.0\n",
      "9th            455.0  40.303297  15.335754  17.0  28.0  38.0  53.0  90.0\n",
      "Assoc-acdm    1008.0  37.286706  10.509755  19.0  29.0  36.0  44.0  90.0\n",
      "Assoc-voc     1307.0  38.246366  11.181253  19.0  30.0  37.0  45.0  84.0\n",
      "Bachelors     5044.0  38.641554  11.577566  19.0  29.0  37.0  46.0  90.0\n",
      "Doctorate      375.0  47.130667  11.471727  24.0  39.0  47.0  54.0  80.0\n",
      "HS-grad       9840.0  38.640955  13.067730  17.0  28.0  37.0  48.0  90.0\n",
      "Masters       1627.0  43.740012  10.735356  18.0  36.0  43.0  50.0  90.0\n",
      "Preschool       45.0  41.288889  15.175672  19.0  30.0  40.0  53.0  75.0\n",
      "Prof-school    542.0  44.249077  11.428098  25.0  36.0  43.0  50.0  90.0\n",
      "Some-college  6678.0  36.135370  13.073528  17.0  25.0  35.0  45.0  90.0\n"
     ]
    }
   ],
   "source": [
    "age_stats = df_cleaned.groupby(\"education\")[\"age\"].describe()\n",
    "print(age_stats)"
   ],
   "metadata": {
    "collapsed": false,
    "pycharm": {
     "name": "#%%\n"
    },
    "ExecuteTime": {
     "end_time": "2023-05-24T13:49:59.484280Z",
     "start_time": "2023-05-24T13:49:59.025549Z"
    }
   }
  },
  {
   "cell_type": "markdown",
   "source": [
    "# Task 7\n",
    "Compare the married and non-married men salaries. Who earns more? (>50K or <=50K)\n",
    "Married men are those, whom `marital-status` starts with \"Married\". Others are not."
   ],
   "metadata": {
    "collapsed": false,
    "pycharm": {
     "name": "#%% md\n"
    }
   }
  },
  {
   "cell_type": "code",
   "execution_count": 12,
   "outputs": [
    {
     "name": "stdout",
     "output_type": "stream",
     "text": [
      "5723 6396\n",
      "7052 13984\n"
     ]
    }
   ],
   "source": [
    "married_men = men[(men[\"marital-status\"].str.startswith(\"Married\"))]\n",
    "happy_men = men[(~men[\"marital-status\"].str.startswith(\"Maried\"))]\n",
    "rich_married_men = married_men[married_men[\"salary\"] == \">50K\"]\n",
    "rich_happy_men = happy_men[happy_men[\"salary\"] == \">50K\"]\n",
    "\n",
    "poor_married_men = married_men[married_men[\"salary\"] == \"<=50K\"]\n",
    "poor_happy_men = happy_men[happy_men[\"salary\"] == \"<=50K\"]\n",
    "print(len(rich_married_men), len(rich_happy_men))\n",
    "print(len(poor_married_men), len(poor_happy_men))"
   ],
   "metadata": {
    "collapsed": false,
    "pycharm": {
     "name": "#%%\n"
    },
    "ExecuteTime": {
     "end_time": "2023-05-24T13:50:01.247926Z",
     "start_time": "2023-05-24T13:50:01.193312Z"
    }
   }
  },
  {
   "cell_type": "markdown",
   "source": [
    "# Task 8\n",
    "Get the max hours per week some person works. How many people works the same amount of hours per week?"
   ],
   "metadata": {
    "collapsed": false,
    "pycharm": {
     "name": "#%% md\n"
    }
   }
  },
  {
   "cell_type": "code",
   "execution_count": 13,
   "outputs": [
    {
     "name": "stdout",
     "output_type": "stream",
     "text": [
      "78\n"
     ]
    }
   ],
   "source": [
    "max_hours = df_cleaned[\"hours-per-week\"].max()\n",
    "ppl_works_max_hours = len(df_cleaned[df_cleaned[\"hours-per-week\"] == max_hours])\n",
    "print(ppl_works_max_hours)"
   ],
   "metadata": {
    "collapsed": false,
    "pycharm": {
     "name": "#%%\n"
    },
    "ExecuteTime": {
     "end_time": "2023-05-24T13:50:03.149463Z",
     "start_time": "2023-05-24T13:50:03.069005Z"
    }
   }
  },
  {
   "cell_type": "markdown",
   "source": [
    "# Task 9\n",
    "Analyze the correlation between data in dataset. Understand connected fields in it and print highlight thier connection."
   ],
   "metadata": {
    "collapsed": false,
    "pycharm": {
     "name": "#%% md\n"
    }
   }
  },
  {
   "cell_type": "code",
   "execution_count": 14,
   "outputs": [
    {
     "name": "stdout",
     "output_type": "stream",
     "text": [
      "Correlation between salary K$ and higher education:\n",
      "                  salary K$  higher_education\n",
      "salary K$          1.000000          0.254759\n",
      "higher_education   0.254759          1.000000\n"
     ]
    },
    {
     "data": {
      "text/plain": "<Figure size 640x480 with 1 Axes>",
      "image/png": "[encoded data removed]"
     },
     "metadata": {},
     "output_type": "display_data"
    },
    {
     "name": "stdout",
     "output_type": "stream",
     "text": [
      "Correlation between age and salary:\n",
      "0.20820286434202667\n",
      "Correlation between hours per week and salary:\n",
      "0.1963783004672401\n",
      "Correlation between is male and salary:\n",
      "0.18264209616246793\n"
     ]
    },
    {
     "data": {
      "text/plain": "<Figure size 640x480 with 2 Axes>",
      "image/png": "[encoded data removed]"
     },
     "metadata": {},
     "output_type": "display_data"
    }
   ],
   "source": [
    "df_cleaned[\"is male\"] = df_cleaned[\"sex\"].apply(lambda x: x == \"Male\")\n",
    "df_cleaned[\"higher_education\"] = df_cleaned[\"education\"].apply(lambda x: x in higher_education)\n",
    "df_cleaned[\"is male\"] = df_cleaned[\"sex\"].apply(lambda x: x == \"Male\")\n",
    "correlations = df_cleaned[[\"age\", \"hours-per-week\", \"is male\", \"salary K$\"]].corr()\n",
    "corr_high_edu_and_salary = df_cleaned[[\"salary K$\", \"higher_education\"]]\n",
    "\n",
    "print(\"Correlation between salary K$ and higher education:\")\n",
    "print(corr_high_edu_and_salary.corr())\n",
    "\n",
    "sns.barplot(x=\"higher_education\", y=\"salary K$\", data=df_cleaned).set_xticklabels([\"No Higher Education\", \"Have Higher Education\"])\n",
    "plt.title(\"Salary by Higher Education\")\n",
    "plt.xlabel(\"Higher Education\")\n",
    "plt.ylabel(\"Salary K$\")\n",
    "plt.show()\n",
    "print(\"Correlation between age and salary:\")\n",
    "print(correlations.loc[\"age\", \"salary K$\"])\n",
    "\n",
    "\n",
    "print(\"Correlation between hours per week and salary:\")\n",
    "print(correlations.loc[\"hours-per-week\", \"salary K$\"])\n",
    "\n",
    "print(\"Correlation between is male and salary:\")\n",
    "print(correlations.loc[\"is male\", \"salary K$\"])\n",
    "\n",
    "sns.heatmap(correlations, annot=True, cmap=\"viridis\")\n",
    "plt.title(\"Correlation Heatmap\")\n",
    "plt.show()\n"
   ],
   "metadata": {
    "collapsed": false,
    "pycharm": {
     "name": "#%%\n"
    },
    "ExecuteTime": {
     "end_time": "2023-05-24T13:50:06.534352Z",
     "start_time": "2023-05-24T13:50:04.705775Z"
    }
   }
  },
  {
   "cell_type": "code",
   "execution_count": null,
   "outputs": [],
   "source": [],
   "metadata": {
    "collapsed": false
   }
  }
 ],
 "metadata": {
  "kernelspec": {
   "display_name": "Python 3",
   "language": "python",
   "name": "python3"
  },
  "language_info": {
   "codemirror_mode": {
    "name": "ipython",
    "version": 2
   },
   "file_extension": ".py",
   "mimetype": "text/x-python",
   "name": "python",
   "nbconvert_exporter": "python",
   "pygments_lexer": "ipython2",
   "version": "2.7.6"
  }
 },
 "nbformat": 4,
 "nbformat_minor": 0
}
